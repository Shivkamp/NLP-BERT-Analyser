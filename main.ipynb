{
 "cells": [
  {
   "cell_type": "code",
   "execution_count": 3,
   "metadata": {},
   "outputs": [
    {
     "name": "stderr",
     "output_type": "stream",
     "text": [
      "c:\\Users\\aryaa\\AppData\\Local\\Programs\\Python\\Python310\\lib\\site-packages\\tqdm\\auto.py:21: TqdmWarning: IProgress not found. Please update jupyter and ipywidgets. See https://ipywidgets.readthedocs.io/en/stable/user_install.html\n",
      "  from .autonotebook import tqdm as notebook_tqdm\n"
     ]
    }
   ],
   "source": [
    "# Segment 1: Importing Libraries and Reading Data\n",
    "import matplotlib.pyplot as plt\n",
    "import pandas as pd\n",
    "import json\n",
    "from sklearn.metrics.pairwise import cosine_similarity\n",
    "import torch\n",
    "from transformers import BertTokenizer, BertModel\n",
    "import numpy as np  # Add this import statement for NumPy\n",
    "# Load BERT tokenizer and model\n",
    "tokenizer = BertTokenizer.from_pretrained('bert-base-uncased')\n",
    "model = BertModel.from_pretrained('bert-base-uncased')"
   ]
  },
  {
   "cell_type": "code",
   "execution_count": 4,
   "metadata": {},
   "outputs": [],
   "source": [
    "# Segment 2: Preprocessing Genres and Keywords\n",
    "df = pd.read_csv(\"abc.csv\")\n",
    "df.head(1)\n",
    "def genres_and_keywords_to_string(row):\n",
    "    genres = row[\"genres\"]\n",
    "    if pd.isna(genres):\n",
    "        genres = \"\"\n",
    "    else:\n",
    "        genres = json.loads(genres)\n",
    "        genres = \" \".join(\"\".join(j[\"name\"].split()) for j in genres)\n",
    "    keywords = row[\"keywords\"]\n",
    "    if pd.isna(keywords):\n",
    "        keywords = \"\"\n",
    "    else:\n",
    "        keywords = json.loads(keywords)\n",
    "        keywords = \" \".join(\"\".join(j[\"name\"].split()) for j in keywords)\n",
    "    return \"%s %s\" % (genres, keywords)\n",
    "df[\"string\"] = df.apply(genres_and_keywords_to_string, axis=1)"
   ]
  },
  {
   "cell_type": "markdown",
   "metadata": {},
   "source": [
    "DONT RUN CODE AGAIN SKIP PAST IT. TAKE 23 MINS TO RUN DUE TO DATABASE SIZE"
   ]
  },
  {
   "cell_type": "code",
   "execution_count": 5,
   "metadata": {},
   "outputs": [
    {
     "name": "stderr",
     "output_type": "stream",
     "text": [
      "We strongly recommend passing in an `attention_mask` since your input_ids may be padded. See https://huggingface.co/docs/transformers/troubleshooting#incorrect-output-when-padding-tokens-arent-masked.\n"
     ]
    }
   ],
   "source": [
    "# Segment 3: Generate BERT Embeddings\n",
    "# tmdb_5000_movies\n",
    "# Define maximum sequence length\n",
    "MAX_SEQ_LENGTH = 128\n",
    "def generate_bert_embeddings(row):\n",
    "    if pd.isnull(row[\"overview\"]):  # Check for missing values in the 'overview' column\n",
    "        return None  # Return None if the 'overview' value is missing\n",
    "    text = row[\"overview\"]  # Get the overview column value\n",
    "    # Tokenize input\n",
    "    tokens = tokenizer.tokenize(text)\n",
    "    # Truncate or pad the tokens to the specified max length\n",
    "    tokens = tokens[: MAX_SEQ_LENGTH - 2]  # -2 for [CLS] and [SEP]\n",
    "    tokens = [\"[CLS]\"] + tokens + [\"[SEP]\"]\n",
    "    input_ids = tokenizer.convert_tokens_to_ids(tokens)\n",
    "    input_ids += [0] * (MAX_SEQ_LENGTH - len(input_ids))  # Pad tokens to the max length\n",
    "    input_ids = torch.tensor([input_ids])\n",
    "    # Get BERT embeddings\n",
    "    with torch.no_grad():\n",
    "        outputs = model(input_ids)\n",
    "        embeddings = outputs[0][\n",
    "            :, 0, :\n",
    "        ].numpy()  # Extract embeddings of the first (and only) token [CLS]\n",
    "    return embeddings\n",
    "# Apply the function to each row of the DataFrame\n",
    "df[\"bert_embeddings\"] = df.apply(generate_bert_embeddings, axis=1)"
   ]
  },
  {
   "cell_type": "markdown",
   "metadata": {},
   "source": [
    "RUN FROM HERE. WILL STRAIGHT AWAY ASK FOR USER INPUT"
   ]
  },
  {
   "cell_type": "code",
   "execution_count": 6,
   "metadata": {},
   "outputs": [],
   "source": [
    "import ast\n",
    "# Segment 4: User Input and Querying\n",
    "while True:\n",
    "    try:\n",
    "        input_movie = str(input(\"Enter movie title: \"))\n",
    "        idx = df[df[\"title\"] == input_movie].index[0]\n",
    "        break\n",
    "    except IndexError:\n",
    "        print(\"Wrong movie title. Please enter a valid movie title.\")\n",
    "query_embedding = df.at[idx, \"bert_embeddings\"]\n"
   ]
  },
  {
   "cell_type": "code",
   "execution_count": 7,
   "metadata": {},
   "outputs": [
    {
     "name": "stdout",
     "output_type": "stream",
     "text": [
      "Scores: [1.0, 0.98322177, 0.9653914, 0.8608978, 0.8789828, 0.93620145, 0.27004206, 0.87577116, 0.97855043, 0.9010414, 0.90342087, 0.8471943, 0.9892572, 0.8482874, 0.8920321, 0.83599544, 0.88388294, 0.8722353, 0.3073612, 0.8650747, 0.28870907, 0.9177877, 0.97612196, 0.9719366, 0.9806117, 0.28763536, 0.95288515, 0.80878586, 0.98872644, 0.7449634, 0.8516745, 0.98953485, 0.31384113, 0.98888767, 0.9857006, 0.9859766, 0.8884105, 0.9610476, 0.8666314, 0.9586667, 0.9835478, 0.8805929, 0.927537, 0.93816364, 0.98147506, 0.88983655, 0.97273886, 0.6699121]\n"
     ]
    }
   ],
   "source": [
    "# Segment 5: Calculate Cosine Similarity and Plot Scores\n",
    "def calculate_cosine_similarity(query_embedding, embeddings):\n",
    "    scores = []\n",
    "    for embedding in embeddings:\n",
    "        if embedding is not None:\n",
    "            score = cosine_similarity([query_embedding], [embedding.reshape(-1)])\n",
    "            scores.append(score[0][0])\n",
    "        else:\n",
    "            scores.append(np.nan)  # Handle missing embeddings\n",
    "    return scores\n",
    "scores = calculate_cosine_similarity(query_embedding.reshape(-1), df[\"bert_embeddings\"])\n",
    "print(\"Scores:\", scores)  # Debugging statement to check the scores\n",
    " # Ensure plot is displayed"
   ]
  },
  {
   "cell_type": "code",
   "execution_count": 8,
   "metadata": {},
   "outputs": [
    {
     "name": "stdout",
     "output_type": "stream",
     "text": [
      "Avatar\n",
      "Enter the World of Pandora.\n",
      "\n",
      "Summary: \n",
      "In the 22nd century, a paraplegic Marine is dispatched to the moon Pandora on a unique mission, but becomes torn between following orders and protecting an alien civilization.\n",
      "\n",
      "Review Score: \n",
      "7.2\n",
      "\n",
      "Number Of Votes: \n",
      "11800\n",
      "\n"
     ]
    }
   ],
   "source": [
    "print(input_movie)\n",
    "print(df.at[idx, \"tagline\"])\n",
    "print(\"\")\n",
    "print(\"Summary: \")\n",
    "print(df.at[idx, \"overview\"])\n",
    "print(\"\")\n",
    "print(\"Review Score: \")\n",
    "print(df.at[idx, \"vote_average\"])\n",
    "print(\"\")\n",
    "print(\"Number Of Votes: \")\n",
    "print(df.at[idx, \"vote_count\"])\n",
    "print(\"\")"
   ]
  },
  {
   "cell_type": "code",
   "execution_count": 9,
   "metadata": {},
   "outputs": [
    {
     "name": "stdout",
     "output_type": "stream",
     "text": [
      "Genres are categorized based on summaries and reviews: \n",
      " - Action\n",
      " - Adventure\n",
      " - Fantasy\n",
      " - Science Fiction\n"
     ]
    }
   ],
   "source": [
    "print(\"Genres are categorized based on summaries and reviews: \")\n",
    "genres_list = ast.literal_eval(df.at[idx, \"genres\"])\n",
    "for genre in genres_list:\n",
    "    print(\" - \"+genre[\"name\"])"
   ]
  },
  {
   "cell_type": "code",
   "execution_count": 10,
   "metadata": {},
   "outputs": [
    {
     "data": {
      "image/png": "[encoded data removed]",
      "text/plain": [
       "<Figure size 640x480 with 1 Axes>"
      ]
     },
     "metadata": {},
     "output_type": "display_data"
    }
   ],
   "source": [
    "plt.plot(scores)\n",
    "plt.show() "
   ]
  },
  {
   "cell_type": "code",
   "execution_count": 11,
   "metadata": {},
   "outputs": [
    {
     "name": "stdout",
     "output_type": "stream",
     "text": [
      "Top 5 Recommended Titles:\n",
      "--------------------------------------------------------------------------------------------------------------\n",
      "1. Unleash the power behind the armor.\n",
      "\n",
      "Summary: \n",
      "When Tony Stark's world is torn apart by a formidable terrorist called the Mandarin, he starts an odyssey of rebuilding and retribution.\n",
      "\n",
      "Review Score: \n",
      "6.8\n",
      "\n",
      "Number Of Votes: \n",
      "8806\n",
      "\n",
      "Genres from the above: \n",
      " - Action\n",
      " - Adventure\n",
      " - Science Fiction\n",
      "\n",
      "\n",
      "--------------------------------------------------------------------------------------------------------------\n",
      "2. Jack is back!\n",
      "\n",
      "Summary: \n",
      "Captain Jack Sparrow works his way out of a blood debt with the ghostly Davey Jones, he also attempts to avoid eternal damnation.\n",
      "\n",
      "Review Score: \n",
      "7.0\n",
      "\n",
      "Number Of Votes: \n",
      "5246\n",
      "\n",
      "Genres from the above: \n",
      " - Adventure\n",
      " - Fantasy\n",
      " - Action\n",
      "\n",
      "\n",
      "--------------------------------------------------------------------------------------------------------------\n",
      "3. Take a Stand\n",
      "\n",
      "Summary: \n",
      "When a cure is found to treat mutations, lines are drawn amongst the X-Men and The Brotherhood, a band of powerful mutants organized under Xavier's former ally, Magneto.\n",
      "\n",
      "Review Score: \n",
      "6.3\n",
      "\n",
      "Number Of Votes: \n",
      "3525\n",
      "\n",
      "Genres from the above: \n",
      " - Adventure\n",
      " - Action\n",
      " - Science Fiction\n",
      " - Thriller\n",
      "\n",
      "\n",
      "--------------------------------------------------------------------------------------------------------------\n",
      "4. The park is open.\n",
      "\n",
      "Summary: \n",
      "Twenty-two years after the events of Jurassic Park, Isla Nublar now features a fully functioning dinosaur theme park, Jurassic World, as originally envisioned by John Hammond.\n",
      "\n",
      "Review Score: \n",
      "6.5\n",
      "\n",
      "Number Of Votes: \n",
      "8662\n",
      "\n",
      "Genres from the above: \n",
      " - Action\n",
      " - Adventure\n",
      " - Science Fiction\n",
      " - Thriller\n",
      "\n",
      "\n",
      "--------------------------------------------------------------------------------------------------------------\n",
      "5. Revenge is coming.\n",
      "\n",
      "Summary: \n",
      "Sam Witwicky leaves the Autobots behind for a normal life. But when his mind is filled with cryptic symbols, the Decepticons target him and he is dragged back into the Transformers' war.\n",
      "\n",
      "Review Score: \n",
      "6.0\n",
      "\n",
      "Number Of Votes: \n",
      "3138\n",
      "\n",
      "Genres from the above: \n",
      " - Science Fiction\n",
      " - Action\n",
      " - Adventure\n",
      "\n",
      "\n",
      "--------------------------------------------------------------------------------------------------------------\n"
     ]
    }
   ],
   "source": [
    "# Segment 6: Recommend Top Titles\n",
    "# Convert scores to a NumPy array\n",
    "scores_array = np.array(scores)\n",
    "\n",
    "# Get the indices of top recommendations\n",
    "recommended_idx = (-scores_array).argsort()[1:6]\n",
    "\n",
    "# Get the titles of the recommended movies\n",
    "recommended_titles = df[\"title\"].iloc[recommended_idx]\n",
    "\n",
    "print(\"Top 5 Recommended Titles:\")\n",
    "print(\"--------------------------------------------------------------------------------------------------------------\")\n",
    "for i, idx in enumerate(recommended_idx, 1):\n",
    "    print(f\"{i}. {df.at[idx, 'tagline']}\")\n",
    "    print(\"\")\n",
    "    print(\"Summary: \")\n",
    "    print(df.at[idx, \"overview\"])\n",
    "    print(\"\")\n",
    "    print(\"Review Score: \")\n",
    "    print(df.at[idx, \"vote_average\"])\n",
    "    print(\"\")\n",
    "    print(\"Number Of Votes: \")\n",
    "    print(df.at[idx, \"vote_count\"])\n",
    "    print(\"\")\n",
    "    print(\"Genres from the above: \")\n",
    "    genres_list = ast.literal_eval(df.at[idx, \"genres\"])\n",
    "    for genre in genres_list:\n",
    "        print(\" - \"+genre[\"name\"])\n",
    "    print(\"\\n\")\n",
    "    print(\"--------------------------------------------------------------------------------------------------------------\")"
   ]
  }
 ],
 "metadata": {
  "kernelspec": {
   "display_name": "Python 3",
   "language": "python",
   "name": "python3"
  },
  "language_info": {
   "codemirror_mode": {
    "name": "ipython",
    "version": 3
   },
   "file_extension": ".py",
   "mimetype": "text/x-python",
   "name": "python",
   "nbconvert_exporter": "python",
   "pygments_lexer": "ipython3",
   "version": "3.10.10"
  }
 },
 "nbformat": 4,
 "nbformat_minor": 2
}
